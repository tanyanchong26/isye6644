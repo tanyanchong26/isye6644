{
 "cells": [
  {
   "cell_type": "markdown",
   "id": "84f97b11",
   "metadata": {},
   "source": [
    "# ISYE 6644 - Mini Project 1 \n",
    "## Team 10\n",
    "### Group Members: Tan Yan Chong"
   ]
  },
  {
   "cell_type": "code",
   "execution_count": 8,
   "id": "adf047c8",
   "metadata": {},
   "outputs": [],
   "source": [
    "import math\n",
    "import numpy as np\n",
    "from numpy import random\n",
    "import seaborn as sns\n",
    "import collections\n",
    "from scipy import optimize\n",
    "import matplotlib.pyplot as plt"
   ]
  },
  {
   "cell_type": "markdown",
   "id": "e8877d0e",
   "metadata": {},
   "source": [
    "## Comparison of Random Generators"
   ]
  },
  {
   "cell_type": "markdown",
   "id": "2ae8577f",
   "metadata": {},
   "source": [
    "#### Random Generator using numpy.random.choice"
   ]
  },
  {
   "cell_type": "code",
   "execution_count": 1,
   "id": "cde54a99",
   "metadata": {},
   "outputs": [
    {
     "data": {
      "text/plain": [
       "<AxesSubplot:ylabel='Count'>"
      ]
     },
     "execution_count": 1,
     "metadata": {},
     "output_type": "execute_result"
    },
    {
     "data": {
      "image/png": "[encoded data removed]",
      "text/plain": [
       "<Figure size 432x288 with 1 Axes>"
      ]
     },
     "metadata": {
      "needs_background": "light"
     },
     "output_type": "display_data"
    }
   ],
   "source": [
    "random.seed(13062021)\n",
    "\n",
    "sns.histplot([random.choice([1,2,3,4,5,6]) for i in range(0,10000)])"
   ]
  },
  {
   "cell_type": "markdown",
   "id": "ce631716",
   "metadata": {},
   "source": [
    "#### Pseudo Random Number Generator"
   ]
  },
  {
   "cell_type": "code",
   "execution_count": 5,
   "id": "b2015da5",
   "metadata": {},
   "outputs": [
    {
     "data": {
      "text/plain": [
       "<AxesSubplot:ylabel='Count'>"
      ]
     },
     "execution_count": 5,
     "metadata": {},
     "output_type": "execute_result"
    },
    {
     "data": {
      "image/png": "[encoded data removed]",
      "text/plain": [
       "<Figure size 432x288 with 1 Axes>"
      ]
     },
     "metadata": {
      "needs_background": "light"
     },
     "output_type": "display_data"
    }
   ],
   "source": [
    "def random_generator(seed, n):\n",
    "    X = []\n",
    "    for i in range(0,n):\n",
    "        if len(X)==0:\n",
    "            X.append(((16807*seed)%(2**31-1))/(2**31-1))\n",
    "        else:\n",
    "            X.append(((16807*X[::-1][0]*(2**31-1))%(2**31-1))/(2**31-1))\n",
    "    \n",
    "    return X\n",
    "\n",
    "self_generated_random = random_generator(13062021, 10001)\n",
    "self_generated_random.pop(0)\n",
    "sns.histplot([math.ceil(i*6) for i in self_generated_random])"
   ]
  },
  {
   "cell_type": "markdown",
   "id": "d589b9bb",
   "metadata": {},
   "source": [
    "## Code Implementation for Game Length"
   ]
  },
  {
   "cell_type": "code",
   "execution_count": 7,
   "id": "abdf0403",
   "metadata": {},
   "outputs": [],
   "source": [
    "random.seed(13062020)\n",
    "\n",
    "games_length = []\n",
    "\n",
    "for i in range(0,10000): # We will simulate the scenario 10,000 times \n",
    "    # End Game Trigger\n",
    "    end_game = 0  \n",
    "    # Initially, there are 4 coins for both A & B each.\n",
    "    records = {\"A\":[4], \"B\":[4]}    \n",
    "    # Initial coins in pot is 2    \n",
    "    pot_record = [2]    \n",
    "    # Dice Roll Record. Initially empty.   \n",
    "    dice_roll_record = []\n",
    "    while end_game==0: \n",
    "        for i in records:\n",
    "            dice_roll = random.choice([1,2,3,4,5,6])\n",
    "            dice_roll_record.append(dice_roll)        \n",
    "            if dice_roll==1:\n",
    "                # Do nothing. So append previous record as latest record.\n",
    "                records[i].append(records[i][-1])\n",
    "                pot_record.append(pot_record[-1])\n",
    "            elif dice_roll == 2:\n",
    "                # Take all coins in pot\n",
    "                if pot_record[-1]>0: #There must be some coins in pot first!\n",
    "                    result = records[i][-1] + pot_record[-1]\n",
    "                    records[i].append(result)\n",
    "                    pot_record.append(0)\n",
    "            elif dice_roll==3:\n",
    "                # Take half of coins in pot rounded down\n",
    "                if pot_record[-1]>0:\n",
    "                    result = records[i][-1] + pot_record[-1]//2\n",
    "                    records[i].append(result)\n",
    "                    pot_record.append(pot_record[-1] - pot_record[-1]//2)\n",
    "            elif dice_roll in [4,5,6]:\n",
    "                # Player Put Coins in Pot\n",
    "                if records[i][-1]==0:\n",
    "                    end_game = 1\n",
    "                    records[i].append(0)\n",
    "                elif records[i][-1]>0:\n",
    "                    records[i].append(records[i][-1] - 1)\n",
    "                    pot_record.append(pot_record[-1] +1)\n",
    "    \n",
    "    games_length.append(len(records[\"A\"])-1)"
   ]
  },
  {
   "cell_type": "markdown",
   "id": "b95bfd70",
   "metadata": {},
   "source": [
    "## Code Implementation for Exponential Curve Fitting"
   ]
  },
  {
   "cell_type": "code",
   "execution_count": 9,
   "id": "1b14b2f8",
   "metadata": {},
   "outputs": [
    {
     "data": {
      "text/plain": [
       "<matplotlib.legend.Legend at 0x15a7795c130>"
      ]
     },
     "execution_count": 9,
     "metadata": {},
     "output_type": "execute_result"
    },
    {
     "data": {
      "image/png": "[encoded data removed]",
      "text/plain": [
       "<Figure size 432x288 with 1 Axes>"
      ]
     },
     "metadata": {
      "needs_background": "light"
     },
     "output_type": "display_data"
    }
   ],
   "source": [
    "def exp_func(x, lambda_):\n",
    "    return lambda_*np.exp(-lambda_*(x - 5))\n",
    "\n",
    "turns_distribution = dict(collections.Counter(games_length))\n",
    "turns_distribution = dict(sorted(turns_distribution.items(), key = lambda x: x[1], reverse = True))\n",
    "turns = list(turns_distribution.keys())\n",
    "observations = list(turns_distribution.values())\n",
    "observations = [i/len(games_length) for i in observations]\n",
    "\n",
    "popt, pcov = optimize.curve_fit(exp_func, turns, observations)\n",
    "modeled_y = [popt[0]*math.exp(-popt[0]*(i-5)) for i in turns]\n",
    "\n",
    "plt.plot(turns, observations, label = \"Original\")\n",
    "plt.plot(turns, modeled_y, \"r--\", label = \"Fitted\")\n",
    "plt.xlabel(\"Game Length\")\n",
    "plt.ylabel(\"Probability Density Function\")\n",
    "plt.legend(framealpha=1, frameon=True)"
   ]
  },
  {
   "cell_type": "markdown",
   "id": "49f351aa",
   "metadata": {},
   "source": [
    "## Code Implementation for Changing Number of Coins"
   ]
  },
  {
   "cell_type": "code",
   "execution_count": 13,
   "id": "adee43fe",
   "metadata": {},
   "outputs": [
    {
     "data": {
      "text/plain": [
       "<matplotlib.legend.Legend at 0x15a78338340>"
      ]
     },
     "execution_count": 13,
     "metadata": {},
     "output_type": "execute_result"
    },
    {
     "data": {
      "image/png": "[encoded data removed]",
      "text/plain": [
       "<Figure size 432x288 with 1 Axes>"
      ]
     },
     "metadata": {
      "needs_background": "light"
     },
     "output_type": "display_data"
    }
   ],
   "source": [
    "random.seed(13062020)\n",
    "\n",
    "initial_coins = list(range(2,15))\n",
    "\n",
    "lambdas = []\n",
    "\n",
    "for v in initial_coins:     \n",
    "    games_length = []     \n",
    "    for i in range(0,10000):    \n",
    "         \n",
    "        end_game = 0\n",
    "        records = {\"A\":[v], \"B\":[v]}\n",
    "        pot_record = [2]   \n",
    "        dice_roll_record = []\n",
    "\n",
    "        while end_game==0: \n",
    "            for i in records:\n",
    "                dice_roll = random.choice([1,2,3,4,5,6])\n",
    "                dice_roll_record.append(dice_roll)\n",
    "        \n",
    "                if dice_roll==1:\n",
    "                    records[i].append(records[i][-1])\n",
    "                    pot_record.append(pot_record[-1])\n",
    "                elif dice_roll == 2:\n",
    "                    if pot_record[-1]>0: \n",
    "                        result = records[i][-1] + pot_record[-1]\n",
    "                        records[i].append(result)\n",
    "                        pot_record.append(0)\n",
    "                elif dice_roll==3:\n",
    "                    if pot_record[-1]>0:\n",
    "                        result = records[i][-1] + pot_record[-1]//2\n",
    "                        records[i].append(result)\n",
    "                        pot_record.append(pot_record[-1] - pot_record[-1]//2)\n",
    "                elif dice_roll in [4,5,6]:\n",
    "                    # Player Put Coins in Pot\n",
    "                    if records[i][-1]==0:\n",
    "                        end_game = 1\n",
    "                        records[i].append(0)\n",
    "                    elif records[i][-1]>0:\n",
    "                        records[i].append(records[i][-1] - 1)\n",
    "                        pot_record.append(pot_record[-1] +1)\n",
    "    \n",
    "        games_length.append(len(records[\"A\"])-1)\n",
    "    \n",
    "    def exp_func(x, lambda_):\n",
    "        return lambda_*np.exp(-lambda_*(x - v - 1))\n",
    "\n",
    "    turns_distribution = dict(collections.Counter(games_length))\n",
    "    turns_distribution = dict(sorted(turns_distribution.items(), key = lambda x: x[1], reverse = True))\n",
    "    turns = list(turns_distribution.keys())\n",
    "    observations = list(turns_distribution.values())\n",
    "    observations = [i/len(games_length) for i in observations]\n",
    "\n",
    "    popt, pcov = optimize.curve_fit(exp_func, turns, observations)  \n",
    "\n",
    "    lambdas.append(popt[0])    \n",
    "\n",
    "def emp_func(x, a, b, c):\n",
    "    return a*np.exp(-b*(x - c))\n",
    "\n",
    "popt, pcov = optimize.curve_fit(emp_func, initial_coins, lambdas)  \n",
    "\n",
    "modeled_y = [popt[0]*math.exp(-popt[1]*(i-popt[2])) for i in initial_coins]\n",
    "\n",
    "plt.plot(initial_coins, lambdas, label = \"Original\")\n",
    "plt.plot(initial_coins, modeled_y, \"r--\", label = \"Fitted\")\n",
    "plt.xlabel(\"Number of Initial Coins for A & B\")\n",
    "plt.ylabel(\"$\\lambda$\")\n",
    "plt.legend(framealpha=1, frameon=True)"
   ]
  },
  {
   "cell_type": "markdown",
   "id": "fe001cfe",
   "metadata": {},
   "source": [
    "## Code Implementation for True $\\lambda$ Estimation"
   ]
  },
  {
   "cell_type": "code",
   "execution_count": 16,
   "id": "969d6834",
   "metadata": {},
   "outputs": [
    {
     "name": "stderr",
     "output_type": "stream",
     "text": [
      "C:\\ProgramData\\Anaconda3\\lib\\site-packages\\seaborn\\distributions.py:2557: FutureWarning: `distplot` is a deprecated function and will be removed in a future version. Please adapt your code to use either `displot` (a figure-level function with similar flexibility) or `histplot` (an axes-level function for histograms).\n",
      "  warnings.warn(msg, FutureWarning)\n"
     ]
    },
    {
     "data": {
      "text/plain": [
       "<AxesSubplot:ylabel='Density'>"
      ]
     },
     "execution_count": 16,
     "metadata": {},
     "output_type": "execute_result"
    },
    {
     "data": {
      "image/png": "[encoded data removed]",
      "text/plain": [
       "<Figure size 432x288 with 1 Axes>"
      ]
     },
     "metadata": {
      "needs_background": "light"
     },
     "output_type": "display_data"
    }
   ],
   "source": [
    "random.seed(13062020)\n",
    "\n",
    "mean_turns = []\n",
    "\n",
    "for i in range(0,250):\n",
    "    \n",
    "    games_length = []\n",
    "    \n",
    "    for i in range(0,10000): # We will simulate the scenario 10,000 times\n",
    "    \n",
    "        # End Game Trigger    \n",
    "        end_game = 0  \n",
    "            \n",
    "        # Initially, there are 4 coins for both A & B each.\n",
    "        # We will record the changes in coins to help in troubleshooting, if necessary.\n",
    "    \n",
    "        records = {\"A\":[4], \"B\":[4]}\n",
    "    \n",
    "        # Initial coins in pot is 2    \n",
    "        pot_record = [2]\n",
    "    \n",
    "        # Dice Roll Record. Initially empty. \n",
    "        # Vector length of dice_roll_record should be 1 less than vector of pot_record\n",
    "    \n",
    "        dice_roll_record = []\n",
    "\n",
    "        while end_game==0: \n",
    "            for i in records:\n",
    "                dice_roll = random.choice([1,2,3,4,5,6])\n",
    "                dice_roll_record.append(dice_roll)\n",
    "        \n",
    "                if dice_roll==1:\n",
    "                    # Do nothing. So append previous record as latest record.\n",
    "                    records[i].append(records[i][-1])\n",
    "                    pot_record.append(pot_record[-1])\n",
    "                elif dice_roll == 2:\n",
    "                    # Take all coins in pot\n",
    "                    if pot_record[-1]>0: #There must be some coins in pot first!\n",
    "                        result = records[i][-1] + pot_record[-1]\n",
    "                        records[i].append(result)\n",
    "                        pot_record.append(0)\n",
    "                elif dice_roll==3:\n",
    "                    # Take half of coins in pot rounded down\n",
    "                    if pot_record[-1]>0:\n",
    "                        result = records[i][-1] + pot_record[-1]//2\n",
    "                        records[i].append(result)\n",
    "                        pot_record.append(pot_record[-1] - pot_record[-1]//2)\n",
    "                elif dice_roll in [4,5,6]:\n",
    "                    # Player Put Coins in Pot\n",
    "                    if records[i][-1]==0:\n",
    "                        end_game = 1\n",
    "                        records[i].append(0)\n",
    "                    elif records[i][-1]>0:\n",
    "                        records[i].append(records[i][-1] - 1)\n",
    "                        pot_record.append(pot_record[-1] +1)\n",
    "    \n",
    "        games_length.append(len(records[\"A\"])-1)\n",
    "        \n",
    "    turns_distribution = dict(collections.Counter(games_length))\n",
    "    turns_distribution = dict(sorted(turns_distribution.items(), key = lambda x: x[1], reverse = True))\n",
    "    turns = list(turns_distribution.keys())\n",
    "    observations = list(turns_distribution.values())\n",
    "    observations = [i/len(games_length) for i in observations]\n",
    "        \n",
    "    def exp_func(x, lambda_):\n",
    "        return lambda_*np.exp(-lambda_*(x - 5))\n",
    "        \n",
    "    popt, pcov = optimize.curve_fit(exp_func, turns, observations)               \n",
    "        \n",
    "    mean_turns.append(1/popt[0])\n",
    "\n",
    "sns.distplot(mean_turns)"
   ]
  }
 ],
 "metadata": {
  "kernelspec": {
   "display_name": "Python 3",
   "language": "python",
   "name": "python3"
  }
 },
 "nbformat": 4,
 "nbformat_minor": 5
}
